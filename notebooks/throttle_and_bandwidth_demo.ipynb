{
 "cells": [
  {
   "cell_type": "markdown",
   "metadata": {},
   "source": [
    "## Throttle and Bandwith Demo\n",
    "\n",
    "This notebook demonstrates the effect of throttling on effective bandwidth.\n",
    "It uses [holoviews](http://holoviews.org/) to create an interactive histogram."
   ]
  },
  {
   "cell_type": "code",
   "execution_count": null,
   "metadata": {},
   "outputs": [],
   "source": [
    "import numpy as np\n",
    "import pandas as pd\n",
    "import holoviews as hv\n",
    "hv.extension('bokeh')"
   ]
  },
  {
   "cell_type": "code",
   "execution_count": null,
   "metadata": {},
   "outputs": [],
   "source": [
    "from throttler.throttle import Throttle"
   ]
  },
  {
   "cell_type": "markdown",
   "metadata": {},
   "source": [
    "The `make_histogram` method creates a histogram of bandwidth for each 100-microsecond window, based on\n",
    "throttling a sample message stream with a parametrized `max_messages` and `time_window`.  The message stream\n",
    "arrival times are modeled using a [Poisson distribution](https://en.wikipedia.org/wiki/Poisson_distribution)."
   ]
  },
  {
   "cell_type": "code",
   "execution_count": null,
   "metadata": {},
   "outputs": [],
   "source": [
    "def make_histogram(max_messages, time_window):\n",
    "    throttle = Throttle(max_messages, time_window)\n",
    "    times = np.cumsum(np.random.poisson(1, 100000))\n",
    "    df = pd.DataFrame({'time': pd.to_datetime(times, unit='us'), \n",
    "                       'passed': [throttle.accept(t) for t in times]})\n",
    "    bins=np.linspace(50,150,51)\n",
    "    hist=np.histogram(df[df['passed']].groupby(pd.Grouper(key='time', freq='100us')).size(), bins=bins)\n",
    "    return hv.Histogram(hist)"
   ]
  },
  {
   "cell_type": "markdown",
   "metadata": {},
   "source": [
    "The next cell uses holoviews to create an interactive histogram based on the parameter `m`, which we use \n",
    "for both the `max_messages` and `time_window`.  Note that the special case `m==100` looks different because\n",
    "there is a hard limit on bandwidth due to the throttle."
   ]
  },
  {
   "cell_type": "code",
   "execution_count": null,
   "metadata": {},
   "outputs": [],
   "source": [
    "%%opts Histogram [width=600 toolbar='above']\n",
    "hv.HoloMap([(m, make_histogram(m,m)) for m in [2,3,5,10,20,50,100,200,500,1000]], kdims=['m'])"
   ]
  }
 ],
 "metadata": {
  "kernelspec": {
   "display_name": "Python 3",
   "language": "python",
   "name": "python3"
  },
  "language_info": {
   "codemirror_mode": {
    "name": "ipython",
    "version": 3
   },
   "file_extension": ".py",
   "mimetype": "text/x-python",
   "name": "python",
   "nbconvert_exporter": "python",
   "pygments_lexer": "ipython3",
   "version": "3.6.4"
  }
 },
 "nbformat": 4,
 "nbformat_minor": 2
}
